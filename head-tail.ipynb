{
 "cells": [
  {
   "cell_type": "code",
   "execution_count": 5,
   "id": "fddcdebd-3d93-4700-85a7-82e9bd83a3d2",
   "metadata": {},
   "outputs": [
    {
     "name": "stdin",
     "output_type": "stream",
     "text": [
      "enter a number: 6\n"
     ]
    },
    {
     "name": "stdout",
     "output_type": "stream",
     "text": [
      "6\n",
      "5\n",
      "4\n",
      "3\n",
      "2\n",
      "1\n"
     ]
    }
   ],
   "source": [
    "def head(n):\n",
    "    if n==0:\n",
    "        return\n",
    "    print(n)\n",
    "    head(n-1)\n",
    "num= int(input(\"enter a number:\"))\n",
    "head(num)"
   ]
  },
  {
   "cell_type": "code",
   "execution_count": null,
   "id": "7713a355-f90f-4b03-bae5-7b5d960511b1",
   "metadata": {},
   "outputs": [],
   "source": []
  }
 ],
 "metadata": {
  "kernelspec": {
   "display_name": "Python 3 (ipykernel)",
   "language": "python",
   "name": "python3"
  },
  "language_info": {
   "codemirror_mode": {
    "name": "ipython",
    "version": 3
   },
   "file_extension": ".py",
   "mimetype": "text/x-python",
   "name": "python",
   "nbconvert_exporter": "python",
   "pygments_lexer": "ipython3",
   "version": "3.12.7"
  }
 },
 "nbformat": 4,
 "nbformat_minor": 5
}
